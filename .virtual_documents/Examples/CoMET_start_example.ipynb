import CoMET


# This cell is uncessary. It just illustrates the CONFIG loading
CONFIG = CoMET.CoMET_load("./Example_Configs/boilerplate.yml")
print(CONFIG)


# This is the only function required to run CoMET. All details are in the CONFIG
output = CoMET.CoMET_start("./Example_Configs/boilerplate.yml")


print(output)


print(output['nexrad']['tobac']['analysis']['vdisquants'])



