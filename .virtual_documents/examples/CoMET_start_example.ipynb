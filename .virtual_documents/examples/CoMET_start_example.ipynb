# This path append is just for testing from within the examples folder, no need for the user to add this
import sys
sys.path.append("..")

import CoMET


# This cell is uncessary. It just illustrates the CONFIG loading
CONFIG = CoMET.CoMET_load("./example_configs/boilerplate.yml")
print(CONFIG)


# This is the only function required to run CoMET. All details are in the CONFIG
output = CoMET.CoMET_start("./example_configs/boilerplate.yml")


print(output)


print(output['nexrad']['tobac']['analysis']['vdisquants'])


import matplotlib.pyplot as plt

fig,ax = plt.subplots()

ax.hist([output['wrf']['tobac']['analysis']['eth'].eth.values,output['mesonh']['tobac']['analysis']['eth'].eth.values,output['nexrad']['tobac']['analysis']['eth'].eth.values],density=True,label=["WRF","MesoNH","NEXRAD"])
ax.set_xlabel("Echo Top Height (km)")
ax.set_ylabel("Relative Frequency")
ax.legend()
plt.show()
