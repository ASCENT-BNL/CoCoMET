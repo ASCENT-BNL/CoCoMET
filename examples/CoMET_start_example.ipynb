{
 "cells": [
  {
   "cell_type": "markdown",
   "id": "ea2a7e28-9765-488b-b391-70dceb2cd794",
   "metadata": {},
   "source": [
    "# Basic Usage"
   ]
  },
  {
   "cell_type": "code",
   "execution_count": 1,
   "id": "c6f44f65-9863-4586-a350-912c94304f49",
   "metadata": {},
   "outputs": [
    {
     "name": "stdout",
     "output_type": "stream",
     "text": [
      "\n",
      "## You are using the Python ARM Radar Toolkit (Py-ART), an open source\n",
      "## library for working with weather radar data. Py-ART is partly\n",
      "## supported by the U.S. Department of Energy as part of the Atmospheric\n",
      "## Radiation Measurement (ARM) Climate Research Facility, an Office of\n",
      "## Science user facility.\n",
      "##\n",
      "## If you use this software to prepare a publication, please cite:\n",
      "##\n",
      "##     JJ Helmus and SM Collis, JORS 2016, doi: 10.5334/jors.119\n",
      "\n",
      "===============Welcome To CoCoMET===============\n",
      "\n",
      "A toolkit of the Advanced Study of Cloud and Environment iNTerations (ASCENT) program.\n",
      "\n",
      "This project was supported by the U.S. Department of Energy (DOE) Early Career Research Program, Atmospheric System Research (ASR) program, and the Office of Workforce Development for Teachers and Scientists (WDTS) under the Science Undergraduate Laboratory Internships Program (SULI).\n",
      "\n",
      "If you are using this software for a publication, please cite: ####\n",
      "\n",
      "=============================================\n",
      "\n"
     ]
    }
   ],
   "source": [
    "# This path append is just for testing from within the examples folder, no need for the user to add this\n",
    "import sys\n",
    "sys.path.append(\"..\")\n",
    "\n",
    "import CoCoMET"
   ]
  },
  {
   "cell_type": "code",
   "execution_count": 8,
   "id": "eadb9667-e4e1-4fb7-927f-8a8c8e92a72d",
   "metadata": {},
   "outputs": [
    {
     "name": "stdout",
     "output_type": "stream",
     "text": [
      "=====WRF Setup Found in CONFIG=====\n",
      "=====RADAR Setup Found in CONFIG=====\n",
      "{'verbose': True, 'parallel_processing': False, 'max_cores': 32, 'wrf': {'path_to_data': '/D3/data/hweiner/Nexrad_Wrf_Amazon_Data/Amazon_Data_3_31_2014/04_01/4_hours/wrfout*', 'is_idealized': False, 'feature_tracking_var': 'DBZ', 'segmentation_var': 'DBZ', 'tobac': {'feature_id': {'threshold': [30, 40, 50], 'target': 'maximum', 'position_threshold': 'weighted_diff', 'sigma_threshold': 0.5, 'n_min_threshold': 4, 'height': 2}, 'linking': {'method_linking': 'predict', 'adaptive_stop': 0.2, 'adaptive_step': 0.95, 'order': 1, 'subnetwork_size': 10, 'memory': 0, 'v_max': 20, 'time_cell_min': 120}, 'segmentation_2d': {'height': 2, 'method': 'watershed', 'target': 'maximum', 'threshold': 30}, 'analysis': {'area': {'height': 2}}}}, 'standard_radar': {'path_to_data': '/D3/data/hweiner/Nexrad_Wrf_Amazon_Data/RADAR/standard/*', 'min_frame_index': 0, 'max_frame_index': 44, 'feature_tracking_var': 'DBZ', 'segmentation_var': 'DBZ', 'tobac': {'feature_id': {'threshold': [30, 40, 50, 60], 'target': 'maximum', 'position_threshold': 'weighted_diff', 'sigma_threshold': 0.5, 'n_min_threshold': 20}, 'linking': {'method_linking': 'predict', 'adaptive_stop': 0.2, 'adaptive_step': 0.95, 'order': 1, 'subnetwork_size': 10, 'memory': 1, 'v_max': 20}, 'segmentation_2d': {'height': 2, 'method': 'watershed', 'threshold': 15}, 'analysis': {'area': {'height': 2}}}}}\n"
     ]
    }
   ],
   "source": [
    "# This cell is uncessary. It just illustrates the CONFIG loading\n",
    "CONFIG = CoCoMET.CoCoMET_load(path_to_config=\"./example_configs/boilerplate.yml\")\n",
    "\n",
    "print(CONFIG)"
   ]
  },
  {
   "cell_type": "code",
   "execution_count": 9,
   "id": "786fb9fc-4013-45fa-8e08-202ed8006de0",
   "metadata": {},
   "outputs": [
    {
     "name": "stdout",
     "output_type": "stream",
     "text": [
      "=====Loading WRF Data=====\n",
      "=====Starting WRF tobac Feature ID=====\n",
      "=====Starting WRF tobac Feature Linking=====\n",
      "=====Starting WRF tobac 2D Segmentation=====\n"
     ]
    },
    {
     "name": "stderr",
     "output_type": "stream",
     "text": [
      "=====Performing tobac Linking to US====: 100%|██████████| 31723/31723 [00:22<00:00, 1380.70it/s]\n",
      "=====Performing tobac Segmentation to US=====: 100%|██████████| 24/24 [00:38<00:00,  1.58s/it]\n"
     ]
    },
    {
     "name": "stdout",
     "output_type": "stream",
     "text": [
      "=====Starting WRF tobac Analysis Calculations=====\n"
     ]
    },
    {
     "name": "stderr",
     "output_type": "stream",
     "text": [
      "=====Calculating Areas=====: 100%|██████████| 24/24 [05:54<00:00, 14.77s/it]\n"
     ]
    },
    {
     "name": "stdout",
     "output_type": "stream",
     "text": [
      "=====Converting WRF tobac Output to CoCoMET-US=====\n",
      "=====WRF tobac Tracking Complete=====\n",
      "=====Loading STANDARD_RADAR Data=====\n",
      "=====Starting STANDARD_RADAR tobac Feature ID=====\n",
      "=====Starting STANDARD_RADAR tobac Feature Linking=====\n",
      "=====Starting STANDARD_RADAR tobac 2D Segmentation=====\n"
     ]
    },
    {
     "name": "stderr",
     "output_type": "stream",
     "text": [
      "=====Performing tobac Linking to US====: 100%|██████████| 451/451 [00:00<00:00, 1312.08it/s]\n",
      "=====Performing tobac Segmentation to US=====: 100%|██████████| 45/45 [00:00<00:00, 375.42it/s]\n"
     ]
    },
    {
     "name": "stdout",
     "output_type": "stream",
     "text": [
      "=====Starting STANDARD_RADAR tobac Analysis Calculations=====\n"
     ]
    },
    {
     "name": "stderr",
     "output_type": "stream",
     "text": [
      "=====Calculating Areas=====: 100%|██████████| 45/45 [00:01<00:00, 39.86it/s] \n"
     ]
    },
    {
     "name": "stdout",
     "output_type": "stream",
     "text": [
      "=====Converting STANDARD_RADAR tobac Output to CoCoMET-US=====\n",
      "=====STANDARD_RADAR tobac Tracking Complete=====\n",
      "=====CoCoMET Performance Diagonistics=====\n",
      "$ Total Process Time: 1118.42 Seconds\n",
      "$ Allocated Resources: Cores = 1\n"
     ]
    }
   ],
   "source": [
    "# This is the only function required to run CoMET. All details are in the CONFIG\n",
    "import CoCoMET\n",
    "\n",
    "output = CoCoMET.CoCoMET_start(CONFIG=CONFIG)"
   ]
  },
  {
   "cell_type": "code",
   "execution_count": 10,
   "id": "b0ce796d-9505-4a87-818d-3158e3c0a8f7",
   "metadata": {},
   "outputs": [
    {
     "name": "stdout",
     "output_type": "stream",
     "text": [
      "     frame  feature_id  cell_id     area\n",
      "0        0           0        0   2220.0\n",
      "1        1           1        1   1044.0\n",
      "2        1           2        0   1764.0\n",
      "3        2           3        1   3452.0\n",
      "4        3           4        2   3756.0\n",
      "..     ...         ...      ...      ...\n",
      "446     44         446      169   3964.0\n",
      "447     44         447      188    508.0\n",
      "448     44         448      185   6316.0\n",
      "449     44         449      157   9332.0\n",
      "450     44         450      189  29836.0\n",
      "\n",
      "[451 rows x 4 columns]\n",
      "       frame  feature_id  cell_id   area\n",
      "0          0           0        0   19.0\n",
      "1          0           1        1    7.0\n",
      "2          0           2        2   12.0\n",
      "3          0           3        3   13.0\n",
      "4          0           4        4   14.0\n",
      "...      ...         ...      ...    ...\n",
      "31718     23       31718     6287   42.0\n",
      "31719     23       31719     5812   67.0\n",
      "31720     23       31720     7242  326.0\n",
      "31721     23       31721     2621   77.0\n",
      "31722     23       31722     5820  210.0\n",
      "\n",
      "[31723 rows x 4 columns]\n"
     ]
    }
   ],
   "source": [
    "print(output['standard_radar']['tobac']['analysis']['area'])\n",
    "print(output[\"wrf\"][\"tobac\"][\"analysis\"][\"area\"])"
   ]
  },
  {
   "cell_type": "code",
   "execution_count": 11,
   "id": "2c7cc302-3608-460b-89e0-1e25824a67c3",
   "metadata": {},
   "outputs": [
    {
     "data": {
      "image/png": "[encoded data removed]",
      "text/plain": [
       "<Figure size 640x480 with 1 Axes>"
      ]
     },
     "metadata": {},
     "output_type": "display_data"
    }
   ],
   "source": [
    "import matplotlib.pyplot as plt\n",
    "\n",
    "fig,ax = plt.subplots()\n",
    "\n",
    "ax.hist([output['wrf']['tobac']['analysis']['area'].area.values,output['standard_radar']['tobac']['analysis']['area'].area.values],density=True,label=[\"WRF\",\"RADAR\"])\n",
    "ax.set_xlabel(\"Area (km^2)\")\n",
    "ax.set_ylabel(\"Density\")\n",
    "ax.legend()\n",
    "plt.show()"
   ]
  }
 ],
 "metadata": {
  "kernelspec": {
   "display_name": ".CoMET",
   "language": "python",
   "name": "python3"
  },
  "language_info": {
   "codemirror_mode": {
    "name": "ipython",
    "version": 3
   },
   "file_extension": ".py",
   "mimetype": "text/x-python",
   "name": "python",
   "nbconvert_exporter": "python",
   "pygments_lexer": "ipython3",
   "version": "3.11.11"
  }
 },
 "nbformat": 4,
 "nbformat_minor": 5
}
