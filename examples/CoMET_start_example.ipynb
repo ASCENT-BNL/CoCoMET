{
 "cells": [
  {
   "cell_type": "markdown",
   "id": "ea2a7e28-9765-488b-b391-70dceb2cd794",
   "metadata": {},
   "source": [
    "# Basic Usage"
   ]
  },
  {
   "cell_type": "code",
   "execution_count": 1,
   "id": "c6f44f65-9863-4586-a350-912c94304f49",
   "metadata": {},
   "outputs": [
    {
     "name": "stdout",
     "output_type": "stream",
     "text": [
      "\n",
      "## You are using the Python ARM Radar Toolkit (Py-ART), an open source\n",
      "## library for working with weather radar data. Py-ART is partly\n",
      "## supported by the U.S. Department of Energy as part of the Atmospheric\n",
      "## Radiation Measurement (ARM) Climate Research Facility, an Office of\n",
      "## Science user facility.\n",
      "##\n",
      "## If you use this software to prepare a publication, please cite:\n",
      "##\n",
      "##     JJ Helmus and SM Collis, JORS 2016, doi: 10.5334/jors.119\n",
      "\n",
      "===============Welcome To CoMET===============\n",
      "\n",
      "A toolkit of the Advanced Study of Cloud and Environment iNTerations (ASCENT) program.\n",
      "\n",
      "This project was supported by the U.S. Department of Energy (DOE) Early Career Research Program, Atmospheric System Research (ASR) program, and the Office of Workforce Development for Teachers and Scientists (WDTS) under the Science Undergraduate Laboratory Internships Program (SULI).\n",
      "\n",
      "If you are using this software for a publication, please cite: ####\n",
      "\n",
      "=============================================\n",
      "\n"
     ]
    }
   ],
   "source": [
    "# This path append is just for testing from within the examples folder, no need for the user to add this\n",
    "import sys\n",
    "sys.path.append(\"/home/hweiner/Internship/CoMET_rams_devel/\")\n",
    "\n",
    "import CoMET\n",
    "%load_ext autoreload"
   ]
  },
  {
   "cell_type": "code",
   "execution_count": 11,
   "id": "eadb9667-e4e1-4fb7-927f-8a8c8e92a72d",
   "metadata": {},
   "outputs": [
    {
     "name": "stdout",
     "output_type": "stream",
     "text": [
      "=====WRF Setup Found in CONFIG=====\n",
      "[30, 40, 50, 60]\n",
      "<class 'list'>\n",
      "[<class 'int'>, <class 'int'>, <class 'int'>, <class 'int'>]\n"
     ]
    }
   ],
   "source": [
    "# This cell is uncessary. It just illustrates the CONFIG loading\n",
    "CONFIG = CoMET.CoMET_load(path_to_config=\"./example_configs/boilerplate.yml\")"
   ]
  },
  {
   "cell_type": "code",
   "execution_count": 22,
   "id": "c307cbbd",
   "metadata": {},
   "outputs": [
    {
     "name": "stdout",
     "output_type": "stream",
     "text": [
      "wrf reflectivity is <xarray.DataArray (Time: 4, bottom_top: 44, south_north: 128, west_east: 148)> Size: 27MB\n",
      "dask.array<xarray-<this-array>, shape=(4, 44, 128, 148), dtype=float64, chunksize=(1, 44, 128, 148), chunktype=numpy.ndarray>\n",
      "Coordinates:\n",
      "    XLAT     (Time, south_north, west_east) float32 303kB dask.array<chunksize=(1, 128, 148), meta=np.ndarray>\n",
      "    XLONG    (Time, south_north, west_east) float32 303kB dask.array<chunksize=(1, 128, 148), meta=np.ndarray>\n",
      "    XTIME    (Time) datetime64[ns] 32B dask.array<chunksize=(1,), meta=np.ndarray>\n",
      "Dimensions without coordinates: Time, bottom_top, south_north, west_east\n",
      "Attributes:\n",
      "    FieldType:    104\n",
      "    MemoryOrder:  XYZ\n",
      "    description:  radar reflectivity\n",
      "    units:        dBZ\n",
      "    stagger:      \n",
      "    coordinates:  XLONG XLAT XTIME\n",
      "1536\n",
      "3332608\n",
      "-0.42042663192070256\n"
     ]
    }
   ],
   "source": [
    "import tobac\n",
    "from CoMET.wrf_load import wrf_load_netcdf_iris\n",
    "import numpy as np\n",
    "%autoreload 2\n",
    "\n",
    "def find_nearest(array, pivot):\n",
    "    array = np.asarray(array)\n",
    "    idx = (np.abs(array - pivot)).argmin()\n",
    "    return idx\n",
    "cube, xarr = wrf_load_netcdf_iris(\"/share/D3/data/hweiner/WRF/TestingPurposesOnly/*\", \"DBZ\", CONFIG)\n",
    "\n",
    "print(np.sum(xarr.DBZ.values != -30))\n",
    "print(np.sum(xarr.DBZ.values == -30))\n",
    "print(np.max(xarr.DBZ.values))"
   ]
  },
  {
   "cell_type": "code",
   "execution_count": 15,
   "id": "786fb9fc-4013-45fa-8e08-202ed8006de0",
   "metadata": {},
   "outputs": [
    {
     "name": "stdout",
     "output_type": "stream",
     "text": [
      "=====WRF Setup Found in CONFIG=====\n",
      "=====Loading WRF Data=====\n",
      "on line 61 of wrfxarray the xtimes are <xarray.DataArray 'XTIME' (Time: 4)> Size: 32B\n",
      "dask.array<concatenate, shape=(4,), dtype=datetime64[ns], chunksize=(1,), chunktype=numpy.ndarray>\n",
      "Coordinates:\n",
      "    XTIME    (Time) datetime64[ns] 32B dask.array<chunksize=(1,), meta=np.ndarray>\n",
      "Dimensions without coordinates: Time\n",
      "Attributes:\n",
      "    FieldType:    104\n",
      "    MemoryOrder:  0  \n",
      "    description:  minutes since 2023-06-20 00:00:00\n",
      "    stagger:      \n",
      "=====Starting WRF tobac Feature ID=====\n",
      "on line 92 of wrf_tobac the feat_cube is DBZ / (dBZ)                         (time: 4; altitude: 44; south_north: 128; west_east: 148)\n",
      "    Dimension coordinates:\n",
      "        time                             x            -                -               -\n",
      "        altitude                         -            x                -               -\n",
      "        south_north                      -            -                x               -\n",
      "        west_east                        -            -                -               x\n",
      "    Auxiliary coordinates:\n",
      "        model_level_number               -            x                -               -\n",
      "        projection_y_coordinate          -            -                x               -\n",
      "        y                                -            -                x               -\n",
      "        latitude                         -            -                x               x\n",
      "        longitude                        -            -                x               x\n",
      "        projection_x_coordinate          -            -                -               x\n",
      "        x                                -            -                -               x\n",
      "    Attributes:\n",
      "        FieldType                   104\n",
      "        MemoryOrder                 'XYZ'\n",
      "        description                 'radar reflectivity'\n",
      "        stagger                     ''\n",
      "on line 93 of wrf_tobac the dxy is 3000.0\n",
      "on line 254 of rtw the features is None\n",
      "=====Starting WRF tobac Feature Linking=====\n",
      "on line 262 of rtw the tracks are None\n",
      "=====Starting WRF tobac 2D Segmentation=====\n",
      "=====Starting WRF tobac 3D Segmentation=====\n",
      "on line 292 of rtw the 2d and 3d seg are (None, None), (None, None)\n",
      "=====Starting WRF tobac Analysis Calculations=====\n"
     ]
    },
    {
     "name": "stderr",
     "output_type": "stream",
     "text": [
      "Process Process-14:\n",
      "Traceback (most recent call last):\n",
      "  File \"/usr/lib64/python3.11/multiprocessing/process.py\", line 314, in _bootstrap\n",
      "    self.run()\n",
      "  File \"/usr/lib64/python3.11/multiprocessing/process.py\", line 108, in run\n",
      "    self._target(*self._args, **self._kwargs)\n",
      "  File \"/home/hweiner/Internship/CoMET_rams_devel/examples/../CoMET/user_interface_layer.py\", line 593, in run_wrf\n",
      "    user_return_dict, tracking_info = run_tracker('wrf', 'tobac', user_return_dict, tracking_info, CONFIG)\n",
      "                                      ^^^^^^^^^^^^^^^^^^^^^^^^^^^^^^^^^^^^^^^^^^^^^^^^^^^^^^^^^^^^^^^^^^^^\n",
      "  File \"/home/hweiner/Internship/CoMET_rams_devel/examples/../CoMET/run_tracker_wrapper.py\", line 650, in run_tracker\n",
      "    user_return_dict = _tobac_analysis(\n",
      "                       ^^^^^^^^^^^^^^^^\n",
      "  File \"/home/hweiner/Internship/CoMET_rams_devel/examples/../CoMET/run_tracker_wrapper.py\", line 421, in _tobac_analysis\n",
      "    _tobac_analysis_data[var] = calc_var(\n",
      "                                ^^^^^^^^^\n",
      "  File \"/home/hweiner/Internship/CoMET_rams_devel/examples/../CoMET/analysis/calc_var.py\", line 91, in calc_var\n",
      "    return variable_call_mechanism[var.lower()](\n",
      "           ^^^^^^^^^^^^^^^^^^^^^^^^^^^^^^^^^^^^^\n",
      "  File \"/home/hweiner/Internship/CoMET_rams_devel/examples/../CoMET/analysis/calculate_bulk_cell_statistics.py\", line 47, in calculate_ETH\n",
      "    return calculate_max_height(analysis_object, threshold, variable, cell_footprint_height, quantile, isETH = True, )\n",
      "           ^^^^^^^^^^^^^^^^^^^^^^^^^^^^^^^^^^^^^^^^^^^^^^^^^^^^^^^^^^^^^^^^^^^^^^^^^^^^^^^^^^^^^^^^^^^^^^^^^^^^^^^^^^^\n",
      "  File \"/home/hweiner/Internship/CoMET_rams_devel/examples/../CoMET/analysis/calculate_bulk_cell_statistics.py\", line 126, in calculate_max_height\n",
      "    raise Exception(\"!=====Missing Segmentation Input=====!\")\n",
      "Exception: !=====Missing Segmentation Input=====!\n"
     ]
    },
    {
     "ename": "KeyboardInterrupt",
     "evalue": "",
     "output_type": "error",
     "traceback": [
      "\u001b[0;31m---------------------------------------------------------------------------\u001b[0m",
      "\u001b[0;31mKeyboardInterrupt\u001b[0m                         Traceback (most recent call last)",
      "Cell \u001b[0;32mIn[15], line 5\u001b[0m\n\u001b[1;32m      2\u001b[0m \u001b[38;5;28;01mimport\u001b[39;00m \u001b[38;5;21;01mCoMET\u001b[39;00m\n\u001b[1;32m      3\u001b[0m get_ipython()\u001b[38;5;241m.\u001b[39mrun_line_magic(\u001b[38;5;124m'\u001b[39m\u001b[38;5;124mautoreload\u001b[39m\u001b[38;5;124m'\u001b[39m, \u001b[38;5;124m'\u001b[39m\u001b[38;5;124m2\u001b[39m\u001b[38;5;124m'\u001b[39m)\n\u001b[0;32m----> 5\u001b[0m output \u001b[38;5;241m=\u001b[39m \u001b[43mCoMET\u001b[49m\u001b[38;5;241;43m.\u001b[39;49m\u001b[43mCoMET_start\u001b[49m\u001b[43m(\u001b[49m\u001b[43mpath_to_config\u001b[49m\u001b[38;5;241;43m=\u001b[39;49m\u001b[38;5;124;43m\"\u001b[39;49m\u001b[38;5;124;43m./example_configs/boilerplate.yml\u001b[39;49m\u001b[38;5;124;43m\"\u001b[39;49m\u001b[43m)\u001b[49m\n",
      "File \u001b[0;32m~/Internship/CoMET_rams_devel/examples/../CoMET/user_interface_layer.py:116\u001b[0m, in \u001b[0;36mCoMET_start\u001b[0;34m(path_to_config, CONFIG)\u001b[0m\n\u001b[1;32m    111\u001b[0m     os\u001b[38;5;241m.\u001b[39menviron[\u001b[38;5;124m\"\u001b[39m\u001b[38;5;124mOMP_NUM_THREADS\u001b[39m\u001b[38;5;124m\"\u001b[39m] \u001b[38;5;241m=\u001b[39m \u001b[38;5;28mstr\u001b[39m(\n\u001b[1;32m    112\u001b[0m         CONFIG[\u001b[38;5;124m\"\u001b[39m\u001b[38;5;124mmax_cores\u001b[39m\u001b[38;5;124m\"\u001b[39m] \u001b[38;5;241m*\u001b[39m \u001b[38;5;241m2\u001b[39m\n\u001b[1;32m    113\u001b[0m     )  \u001b[38;5;66;03m# Take advantage of hyper threading\u001b[39;00m\n\u001b[1;32m    115\u001b[0m \u001b[38;5;66;03m# Return CoMET multi processes output which should be a dictionary\u001b[39;00m\n\u001b[0;32m--> 116\u001b[0m multi_output \u001b[38;5;241m=\u001b[39m \u001b[43mCoMET_start_multi\u001b[49m\u001b[43m(\u001b[49m\u001b[43mCONFIG\u001b[49m\u001b[43m)\u001b[49m\n\u001b[1;32m    118\u001b[0m \u001b[38;5;66;03m# Reset environmental lock when done\u001b[39;00m\n\u001b[1;32m    119\u001b[0m os\u001b[38;5;241m.\u001b[39menviron[\u001b[38;5;124m\"\u001b[39m\u001b[38;5;124mOMP_NUM_THREADS\u001b[39m\u001b[38;5;124m\"\u001b[39m] \u001b[38;5;241m=\u001b[39m \u001b[38;5;28mstr\u001b[39m(multiprocessing\u001b[38;5;241m.\u001b[39mcpu_count() \u001b[38;5;241m*\u001b[39m \u001b[38;5;241m2\u001b[39m)\n",
      "File \u001b[0;32m~/Internship/CoMET_rams_devel/examples/../CoMET/user_interface_layer.py:287\u001b[0m, in \u001b[0;36mCoMET_start_multi\u001b[0;34m(CONFIG)\u001b[0m\n\u001b[1;32m    284\u001b[0m     radar_process\u001b[38;5;241m.\u001b[39mstart()\n\u001b[1;32m    286\u001b[0m \u001b[38;5;28;01mfor\u001b[39;00m p \u001b[38;5;129;01min\u001b[39;00m processes:\n\u001b[0;32m--> 287\u001b[0m     responses\u001b[38;5;241m.\u001b[39mappend(\u001b[43mqueue\u001b[49m\u001b[38;5;241;43m.\u001b[39;49m\u001b[43mget\u001b[49m\u001b[43m(\u001b[49m\u001b[43m)\u001b[49m)\n\u001b[1;32m    289\u001b[0m \u001b[38;5;28;01mfor\u001b[39;00m p \u001b[38;5;129;01min\u001b[39;00m processes:\n\u001b[1;32m    290\u001b[0m     p\u001b[38;5;241m.\u001b[39mjoin()\n",
      "File \u001b[0;32m/usr/lib64/python3.11/multiprocessing/queues.py:103\u001b[0m, in \u001b[0;36mQueue.get\u001b[0;34m(self, block, timeout)\u001b[0m\n\u001b[1;32m    101\u001b[0m \u001b[38;5;28;01mif\u001b[39;00m block \u001b[38;5;129;01mand\u001b[39;00m timeout \u001b[38;5;129;01mis\u001b[39;00m \u001b[38;5;28;01mNone\u001b[39;00m:\n\u001b[1;32m    102\u001b[0m     \u001b[38;5;28;01mwith\u001b[39;00m \u001b[38;5;28mself\u001b[39m\u001b[38;5;241m.\u001b[39m_rlock:\n\u001b[0;32m--> 103\u001b[0m         res \u001b[38;5;241m=\u001b[39m \u001b[38;5;28;43mself\u001b[39;49m\u001b[38;5;241;43m.\u001b[39;49m\u001b[43m_recv_bytes\u001b[49m\u001b[43m(\u001b[49m\u001b[43m)\u001b[49m\n\u001b[1;32m    104\u001b[0m     \u001b[38;5;28mself\u001b[39m\u001b[38;5;241m.\u001b[39m_sem\u001b[38;5;241m.\u001b[39mrelease()\n\u001b[1;32m    105\u001b[0m \u001b[38;5;28;01melse\u001b[39;00m:\n",
      "File \u001b[0;32m/usr/lib64/python3.11/multiprocessing/connection.py:220\u001b[0m, in \u001b[0;36m_ConnectionBase.recv_bytes\u001b[0;34m(self, maxlength)\u001b[0m\n\u001b[1;32m    218\u001b[0m \u001b[38;5;28;01mif\u001b[39;00m maxlength \u001b[38;5;129;01mis\u001b[39;00m \u001b[38;5;129;01mnot\u001b[39;00m \u001b[38;5;28;01mNone\u001b[39;00m \u001b[38;5;129;01mand\u001b[39;00m maxlength \u001b[38;5;241m<\u001b[39m \u001b[38;5;241m0\u001b[39m:\n\u001b[1;32m    219\u001b[0m     \u001b[38;5;28;01mraise\u001b[39;00m \u001b[38;5;167;01mValueError\u001b[39;00m(\u001b[38;5;124m\"\u001b[39m\u001b[38;5;124mnegative maxlength\u001b[39m\u001b[38;5;124m\"\u001b[39m)\n\u001b[0;32m--> 220\u001b[0m buf \u001b[38;5;241m=\u001b[39m \u001b[38;5;28;43mself\u001b[39;49m\u001b[38;5;241;43m.\u001b[39;49m\u001b[43m_recv_bytes\u001b[49m\u001b[43m(\u001b[49m\u001b[43mmaxlength\u001b[49m\u001b[43m)\u001b[49m\n\u001b[1;32m    221\u001b[0m \u001b[38;5;28;01mif\u001b[39;00m buf \u001b[38;5;129;01mis\u001b[39;00m \u001b[38;5;28;01mNone\u001b[39;00m:\n\u001b[1;32m    222\u001b[0m     \u001b[38;5;28mself\u001b[39m\u001b[38;5;241m.\u001b[39m_bad_message_length()\n",
      "File \u001b[0;32m/usr/lib64/python3.11/multiprocessing/connection.py:434\u001b[0m, in \u001b[0;36mConnection._recv_bytes\u001b[0;34m(self, maxsize)\u001b[0m\n\u001b[1;32m    433\u001b[0m \u001b[38;5;28;01mdef\u001b[39;00m \u001b[38;5;21m_recv_bytes\u001b[39m(\u001b[38;5;28mself\u001b[39m, maxsize\u001b[38;5;241m=\u001b[39m\u001b[38;5;28;01mNone\u001b[39;00m):\n\u001b[0;32m--> 434\u001b[0m     buf \u001b[38;5;241m=\u001b[39m \u001b[38;5;28;43mself\u001b[39;49m\u001b[38;5;241;43m.\u001b[39;49m\u001b[43m_recv\u001b[49m\u001b[43m(\u001b[49m\u001b[38;5;241;43m4\u001b[39;49m\u001b[43m)\u001b[49m\n\u001b[1;32m    435\u001b[0m     size, \u001b[38;5;241m=\u001b[39m struct\u001b[38;5;241m.\u001b[39munpack(\u001b[38;5;124m\"\u001b[39m\u001b[38;5;124m!i\u001b[39m\u001b[38;5;124m\"\u001b[39m, buf\u001b[38;5;241m.\u001b[39mgetvalue())\n\u001b[1;32m    436\u001b[0m     \u001b[38;5;28;01mif\u001b[39;00m size \u001b[38;5;241m==\u001b[39m \u001b[38;5;241m-\u001b[39m\u001b[38;5;241m1\u001b[39m:\n",
      "File \u001b[0;32m/usr/lib64/python3.11/multiprocessing/connection.py:399\u001b[0m, in \u001b[0;36mConnection._recv\u001b[0;34m(self, size, read)\u001b[0m\n\u001b[1;32m    397\u001b[0m remaining \u001b[38;5;241m=\u001b[39m size\n\u001b[1;32m    398\u001b[0m \u001b[38;5;28;01mwhile\u001b[39;00m remaining \u001b[38;5;241m>\u001b[39m \u001b[38;5;241m0\u001b[39m:\n\u001b[0;32m--> 399\u001b[0m     chunk \u001b[38;5;241m=\u001b[39m read(handle, remaining)\n\u001b[1;32m    400\u001b[0m     n \u001b[38;5;241m=\u001b[39m \u001b[38;5;28mlen\u001b[39m(chunk)\n\u001b[1;32m    401\u001b[0m     \u001b[38;5;28;01mif\u001b[39;00m n \u001b[38;5;241m==\u001b[39m \u001b[38;5;241m0\u001b[39m:\n",
      "\u001b[0;31mKeyboardInterrupt\u001b[0m: "
     ]
    }
   ],
   "source": [
    "# This is the only function required to run CoMET. All details are in the CONFIG\n",
    "import CoMET\n",
    "%autoreload 2\n",
    "\n",
    "output = CoMET.CoMET_start(path_to_config=\"./example_configs/boilerplate.yml\")"
   ]
  },
  {
   "cell_type": "code",
   "execution_count": 5,
   "id": "8fb00c93",
   "metadata": {},
   "outputs": [
    {
     "name": "stdout",
     "output_type": "stream",
     "text": [
      "   frame  feature_id  cell_id       eth\n",
      "0      2           0        0  2.848868\n",
      "1      2           1        1  3.466485\n",
      "   frame  feature_id  cell_id  perimeter\n",
      "0      2           0        0  38.974433\n",
      "1      2           1        1  63.465023\n",
      "   frame  feature_id  cell_id     volume\n",
      "0      2           0        0  14.817527\n",
      "1      2           1        1  30.979157\n",
      "   frame  feature_id  cell_id  max_intensity\n",
      "0      2           0        0      21.271116\n",
      "1      2           1        1      22.586998\n",
      "   frame  feature_id  cell_id         velocity  speed\n",
      "0      2           0        0  (0.0, 0.0, 0.0)      0\n",
      "1      2           1        1  (0.0, 0.0, 0.0)      0\n",
      "   frame  feature_id  cell_id  cell_growth\n",
      "0      2           0        0          NaN\n",
      "1      2           1        1          NaN\n",
      "   frame  feature_id  cell_id  area\n",
      "0      2           0        0   4.5\n",
      "1      2           1        1   9.0\n",
      "   frame  feature_id  cell_id  area\n",
      "0      2           0        0   NaN\n",
      "1      2           1        1   NaN\n",
      "   frame  feature_id  cell_id  convexity  sphericity\n",
      "0      2           0        0   0.402502    0.748551\n",
      "1      2           1        1   0.511008    0.751616\n",
      "0\n"
     ]
    }
   ],
   "source": [
    "analysis = output['mesonh']['tobac']['analysis']\n",
    "\n",
    "for k in analysis.keys():\n",
    "    if k != \"merge_split\":\n",
    "        print(analysis[k].head())\n",
    "\n",
    "import numpy as np\n",
    "print(sum(~np.isnan(analysis['area-high']['area'])))"
   ]
  },
  {
   "cell_type": "code",
   "execution_count": 6,
   "id": "b0ce796d-9505-4a87-818d-3158e3c0a8f7",
   "metadata": {},
   "outputs": [
    {
     "name": "stdout",
     "output_type": "stream",
     "text": [
      "      frame  feature_id  cell_id   area\n",
      "0        14           0        0   49.0\n",
      "1        33           1        1   58.0\n",
      "2        33           2        2  310.0\n",
      "3        34           3        2  400.0\n",
      "4        35           4        2  417.0\n",
      "...     ...         ...      ...    ...\n",
      "6454    179        6454     2494  215.0\n",
      "6455    180        6455     2490  495.0\n",
      "6456    180        6456     2495  300.0\n",
      "6457    180        6457     2489  546.0\n",
      "6458    180        6458     2496  796.0\n",
      "\n",
      "[6459 rows x 4 columns]\n",
      "      frame  feature_id  cell_id  area\n",
      "0        11           0        0  13.0\n",
      "1        12           1        0  12.0\n",
      "2        13           2        0   6.0\n",
      "3        68           3        1   NaN\n",
      "4        69           4        1   NaN\n",
      "...     ...         ...      ...   ...\n",
      "1511    253        1511      436  20.0\n",
      "1512    253        1512      437  25.0\n",
      "1513    254        1513      437  18.0\n",
      "1514    254        1514      436  19.0\n",
      "1515    255        1515      437  25.0\n",
      "\n",
      "[1516 rows x 4 columns]\n"
     ]
    }
   ],
   "source": [
    "print(output['nexrad']['tobac']['analysis']['area-low'])\n",
    "print(output[\"wrf\"][\"tobac\"][\"analysis\"][\"area-low\"])"
   ]
  },
  {
   "cell_type": "code",
   "execution_count": 5,
   "id": "2c7cc302-3608-460b-89e0-1e25824a67c3",
   "metadata": {},
   "outputs": [
    {
     "data": {
      "image/png": "[encoded data removed]",
      "text/plain": [
       "<Figure size 640x480 with 1 Axes>"
      ]
     },
     "metadata": {},
     "output_type": "display_data"
    }
   ],
   "source": [
    "import matplotlib.pyplot as plt\n",
    "\n",
    "fig,ax = plt.subplots()\n",
    "\n",
    "ax.hist([output['wrf']['tobac']['analysis']['area-low'].area.values,output['nexrad']['tobac']['analysis']['area-low'].area.values],density=True,label=[\"WRF\",\"NEXRAD\"])\n",
    "ax.set_xlabel(\"Area (km^2)\")\n",
    "ax.set_ylabel(\"Density\")\n",
    "ax.legend()\n",
    "plt.show()"
   ]
  }
 ],
 "metadata": {
  "kernelspec": {
   "display_name": ".CoMET",
   "language": "python",
   "name": "python3"
  },
  "language_info": {
   "codemirror_mode": {
    "name": "ipython",
    "version": 3
   },
   "file_extension": ".py",
   "mimetype": "text/x-python",
   "name": "python",
   "nbconvert_exporter": "python",
   "pygments_lexer": "ipython3",
   "version": "3.11.9"
  }
 },
 "nbformat": 4,
 "nbformat_minor": 5
}
