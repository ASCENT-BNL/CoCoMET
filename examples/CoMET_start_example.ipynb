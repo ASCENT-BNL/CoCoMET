{
 "cells": [
  {
   "cell_type": "code",
   "execution_count": 1,
   "id": "1d358bea-6d19-4334-9c1c-f3075cedefdd",
   "metadata": {},
   "outputs": [
    {
     "name": "stdout",
     "output_type": "stream",
     "text": [
      "=====Welcome To CoMET=====\n",
      "\n",
      "This project was supported in part by the U.S. Department of Energy, Office of Science, Office of Workforce Development for Teachers and Scientists (WDTS) under the Science Undergraduate Laboratory Internships Program (SULI) and by the Brookhaven National Laboratory (BNL), Environmental and Climate Sciences Department (ECSD) under the BNL Supplemental Undergraduate Research Program (SURP).\n",
      "\n",
      "==========================\n",
      "\n"
     ]
    }
   ],
   "source": [
    "# This path append is just for testing from within the examples folder, no need for the user to add this\n",
    "import sys\n",
    "sys.path.append(\"..\")\n",
    "\n",
    "import CoMET"
   ]
  },
  {
   "cell_type": "code",
   "execution_count": 2,
   "id": "eadb9667-e4e1-4fb7-927f-8a8c8e92a72d",
   "metadata": {},
   "outputs": [
    {
     "name": "stdout",
     "output_type": "stream",
     "text": [
      "=====WRF Setup Found in CONFIG=====\n",
      "=====MesoNH Setup Found in CONFIG=====\n",
      "=====NEXRAD Setup Found in CONFIG=====\n",
      "=====GOES Setup Found in CONFIG=====\n",
      "{'verbose': True, 'parallel_processing': True, 'max_cores': 32, 'wrf': {'path_to_data': '/D3/data/thahn/wrf/wrfout_2023_07_09/wrfout_d02*', 'feature_tracking_var': 'dbz', 'segmentation_var': 'dbz', 'tobac': {'feature_id': {'height': 2000, 'threshold': [30, 40, 50, 60], 'target': 'maximum', 'position_threshold': 'weighted_diff', 'sigma_threshold': 0.5, 'n_min_threshold': 4}, 'linking': {'method_linking': 'predict', 'adaptive_stop': 0.2, 'adaptive_step': 0.95, 'order': 1, 'subnetwork_size': 10, 'memory': 1, 'v_max': 20}, 'segmentation_2d': {'height': 2000, 'method': 'watershed', 'threshold': 15}, 'segmentation_3d': {'method': 'watershed', 'threshold': 15}, 'analysis': {'area': {'height': 2000}}}, 'moaap': {'tracking_save_path': '/D3/data/thahn/wrf/wrfout_2023_07_09/moaap_test/', 'MinTimePR': 0.5, 'MinAreaPR': 10, 'analysis': None}}, 'mesonh': {'path_to_data': '/D3/data/thahn/MesoNH/CLN/0_5km/*', 'feature_tracking_var': 'dbz', 'segmentation_var': 'dbz', 'tobac': {'feature_id': {'threshold': [10, 20, 30], 'target': 'maximum', 'position_threshold': 'weighted_diff', 'sigma_threshold': 0.5, 'n_min_threshold': 4}, 'linking': {'method_linking': 'predict', 'adaptive_stop': 0.2, 'adaptive_step': 0.95, 'order': 1, 'subnetwork_size': 10, 'memory': 1, 'v_max': 20}, 'segmentation_2d': {'height': 2000, 'method': 'watershed', 'threshold': 5}, 'segmentation_3d': {'method': 'watershed', 'threshold': 5}, 'analysis': {'eth': {'variable': 'DBZ', 'cell_footprint_height': 2000, 'threshold': 8}, 'area': {'height': 2000}, 'volume': {}}}}, 'nexrad': {'path_to_data': '/D3/data/thahn/NEXRAD/HAS012527906/grids/*', 'bounds': [-100, -95.5, 35.5, 38.5], 'feature_tracking_var': 'dbz', 'segmentation_var': 'dbz', 'tobac': {'feature_id': {'threshold': [30, 40, 50, 60], 'target': 'maximum', 'position_threshold': 'weighted_diff', 'sigma_threshold': 0.5, 'n_min_threshold': 4}, 'linking': {'method_linking': 'predict', 'adaptive_stop': 0.2, 'adaptive_step': 0.95, 'order': 1, 'subnetwork_size': 10, 'memory': 1, 'v_max': 20}, 'segmentation_3d': {'method': 'watershed', 'threshold': 15}, 'segmentation_2d': {'height': 2000, 'method': 'watershed', 'threshold': 15}, 'analysis': {'interpsonde': {'path_to_files': '/D3/data/thahn/ARM/INTERPSONDE/*'}, 'vdisquants': {'path_to_files': '/D3/data/thahn/ARM/VDISQUANTS/*'}}}}, 'goes': {'path_to_data': '/D3/data/thahn/GOES/noaa-goes16/ABI-L2-CMIPC/2023/2023_07_11/*', 'bounds': [-100, -95.5, 35.5, 38.5], 'feature_tracking_var': 'tb', 'segmentation_var': 'tb', 'tobac': {'feature_id': {'threshold': [250, 225, 200, 175, 150], 'target': 'minimum', 'position_threshold': 'weighted_diff', 'sigma_threshold': 0.5, 'n_min_threshold': 4}, 'linking': {'method_linking': 'predict', 'adaptive_stop': 0.2, 'adaptive_step': 0.95, 'order': 1, 'subnetwork_size': 10, 'memory': 1, 'v_max': 20}, 'segmentation_2d': {'target': 'minimum', 'method': 'watershed', 'threshold': 250}, 'analysis': {'area': {}, 'interpsonde': {'path_to_files': '/D3/data/thahn/ARM/INTERPSONDE/*'}, 'vdisquants': {'path_to_files': '/D3/data/thahn/ARM/VDISQUANTS/*'}}}}}\n"
     ]
    }
   ],
   "source": [
    "# This cell is uncessary. It just illustrates the CONFIG loading\n",
    "CONFIG = CoMET.CoMET_load(\"./example_configs/boilerplate.yml\")\n",
    "print(CONFIG)"
   ]
  },
  {
   "cell_type": "code",
   "execution_count": null,
   "id": "870c2bbc-88ad-4ebe-b49e-d0a1f600fe43",
   "metadata": {},
   "outputs": [
    {
     "name": "stdout",
     "output_type": "stream",
     "text": [
      "Frame 47: 13 trajectories present.\n",
      "=====Starting MesoNH tobac 2D Segmentation=====\n",
      "=====NEXRAD tobac Tracking Complete=====\n",
      "=====Starting MesoNH tobac 3D Segmentation=====\n",
      "=====Starting MesoNH tobac Analysis Calculations=====\n",
      "=====Calculating Echo Top Heights. 2.17% Complete=====\n",
      "=====Calculating Echo Top Heights. 4.35% Complete=====\n",
      "=====Calculating Echo Top Heights. 6.52% Complete=====\n"
     ]
    },
    {
     "name": "stderr",
     "output_type": "stream",
     "text": [
      "/home/thahn/.conda/envs/CoMET-dev/lib/python3.12/site-packages/numpy/lib/nanfunctions.py:1562: RuntimeWarning: Mean of empty slice\n",
      "  return np.nanmean(a, axis, out=out, keepdims=keepdims)\n"
     ]
    },
    {
     "name": "stdout",
     "output_type": "stream",
     "text": [
      "=====Calculating Echo Top Heights. 8.70% Complete=====\n",
      "=====Calculating Echo Top Heights. 10.87% Complete=====\n",
      "=====Calculating Echo Top Heights. 13.04% Complete=====\n",
      "=====Calculating Echo Top Heights. 15.22% Complete=====\n",
      "=====Calculating Echo Top Heights. 17.39% Complete=====\n",
      "=====Calculating Echo Top Heights. 19.57% Complete=====\n",
      "=====Calculating Echo Top Heights. 21.74% Complete=====\n",
      "=====Calculating Echo Top Heights. 23.91% Complete=====\n",
      "=====Calculating Echo Top Heights. 26.09% Complete=====\n"
     ]
    },
    {
     "name": "stderr",
     "output_type": "stream",
     "text": [
      "/home/thahn/.conda/envs/CoMET-dev/lib/python3.12/site-packages/numpy/lib/nanfunctions.py:1562: RuntimeWarning: Mean of empty slice\n",
      "  return np.nanmean(a, axis, out=out, keepdims=keepdims)\n"
     ]
    },
    {
     "name": "stdout",
     "output_type": "stream",
     "text": [
      "=====Calculating Echo Top Heights. 28.26% Complete=====\n",
      "=====Calculating Echo Top Heights. 30.43% Complete=====\n",
      "=====Calculating Echo Top Heights. 32.61% Complete=====\n",
      "=====Calculating Echo Top Heights. 34.78% Complete=====\n",
      "=====Calculating Echo Top Heights. 36.96% Complete=====\n"
     ]
    },
    {
     "name": "stderr",
     "output_type": "stream",
     "text": [
      "/home/thahn/.conda/envs/CoMET-dev/lib/python3.12/site-packages/numpy/lib/nanfunctions.py:1562: RuntimeWarning: Mean of empty slice\n",
      "  return np.nanmean(a, axis, out=out, keepdims=keepdims)\n"
     ]
    },
    {
     "name": "stdout",
     "output_type": "stream",
     "text": [
      "=====Calculating Echo Top Heights. 39.13% Complete=====\n",
      "=====Calculating Echo Top Heights. 41.30% Complete=====\n",
      "=====Calculating Echo Top Heights. 43.48% Complete=====\n",
      "=====Calculating Echo Top Heights. 45.65% Complete=====\n",
      "=====Calculating Echo Top Heights. 47.83% Complete=====\n"
     ]
    },
    {
     "name": "stderr",
     "output_type": "stream",
     "text": [
      "/home/thahn/.conda/envs/CoMET-dev/lib/python3.12/site-packages/numpy/lib/nanfunctions.py:1562: RuntimeWarning: Mean of empty slice\n",
      "  return np.nanmean(a, axis, out=out, keepdims=keepdims)\n"
     ]
    },
    {
     "name": "stdout",
     "output_type": "stream",
     "text": [
      "=====Calculating Echo Top Heights. 50.00% Complete=====\n",
      "=====Calculating Echo Top Heights. 52.17% Complete=====\n",
      "=====Calculating Echo Top Heights. 54.35% Complete=====\n",
      "=====Calculating Echo Top Heights. 56.52% Complete=====\n"
     ]
    },
    {
     "name": "stderr",
     "output_type": "stream",
     "text": [
      "/home/thahn/.conda/envs/CoMET-dev/lib/python3.12/site-packages/numpy/lib/nanfunctions.py:1562: RuntimeWarning: Mean of empty slice\n",
      "  return np.nanmean(a, axis, out=out, keepdims=keepdims)\n"
     ]
    },
    {
     "name": "stdout",
     "output_type": "stream",
     "text": [
      "=====Calculating Echo Top Heights. 58.70% Complete=====\n",
      "=====Calculating Echo Top Heights. 60.87% Complete=====\n",
      "=====Calculating Echo Top Heights. 63.04% Complete=====\n",
      "=====Calculating Echo Top Heights. 65.22% Complete=====\n",
      "=====Calculating Echo Top Heights. 67.39% Complete=====\n",
      "=====Calculating Echo Top Heights. 69.57% Complete=====\n",
      "=====Calculating Echo Top Heights. 71.74% Complete=====\n",
      "=====Calculating Echo Top Heights. 73.91% Complete=====\n"
     ]
    },
    {
     "name": "stderr",
     "output_type": "stream",
     "text": [
      "/home/thahn/.conda/envs/CoMET-dev/lib/python3.12/site-packages/numpy/lib/nanfunctions.py:1562: RuntimeWarning: Mean of empty slice\n",
      "  return np.nanmean(a, axis, out=out, keepdims=keepdims)\n"
     ]
    },
    {
     "name": "stdout",
     "output_type": "stream",
     "text": [
      "=====Calculating Echo Top Heights. 76.09% Complete=====\n",
      "=====Calculating Echo Top Heights. 78.26% Complete=====\n",
      "=====Calculating Echo Top Heights. 80.43% Complete=====\n",
      "=====Calculating Echo Top Heights. 82.61% Complete=====\n"
     ]
    },
    {
     "name": "stderr",
     "output_type": "stream",
     "text": [
      "/home/thahn/.conda/envs/CoMET-dev/lib/python3.12/site-packages/numpy/lib/nanfunctions.py:1562: RuntimeWarning: Mean of empty slice\n",
      "  return np.nanmean(a, axis, out=out, keepdims=keepdims)\n"
     ]
    },
    {
     "name": "stdout",
     "output_type": "stream",
     "text": [
      "=====Calculating Echo Top Heights. 84.78% Complete=====\n"
     ]
    },
    {
     "name": "stderr",
     "output_type": "stream",
     "text": [
      "/home/thahn/.conda/envs/CoMET-dev/lib/python3.12/site-packages/numpy/lib/nanfunctions.py:1562: RuntimeWarning: Mean of empty slice\n",
      "  return np.nanmean(a, axis, out=out, keepdims=keepdims)\n"
     ]
    },
    {
     "name": "stdout",
     "output_type": "stream",
     "text": [
      "=====Calculating Echo Top Heights. 86.96% Complete=====\n",
      "=====Calculating Echo Top Heights. 89.13% Complete=====\n"
     ]
    },
    {
     "name": "stderr",
     "output_type": "stream",
     "text": [
      "/home/thahn/.conda/envs/CoMET-dev/lib/python3.12/site-packages/numpy/lib/nanfunctions.py:1562: RuntimeWarning: Mean of empty slice\n",
      "  return np.nanmean(a, axis, out=out, keepdims=keepdims)\n"
     ]
    },
    {
     "name": "stdout",
     "output_type": "stream",
     "text": [
      "=====Calculating Echo Top Heights. 91.30% Complete=====\n"
     ]
    },
    {
     "name": "stderr",
     "output_type": "stream",
     "text": [
      "/home/thahn/.conda/envs/CoMET-dev/lib/python3.12/site-packages/numpy/lib/nanfunctions.py:1562: RuntimeWarning: Mean of empty slice\n",
      "  return np.nanmean(a, axis, out=out, keepdims=keepdims)\n",
      "/home/thahn/.conda/envs/CoMET-dev/lib/python3.12/site-packages/numpy/lib/nanfunctions.py:1562: RuntimeWarning: Mean of empty slice\n",
      "  return np.nanmean(a, axis, out=out, keepdims=keepdims)\n",
      "/home/thahn/.conda/envs/CoMET-dev/lib/python3.12/site-packages/numpy/lib/nanfunctions.py:1562: RuntimeWarning: Mean of empty slice\n",
      "  return np.nanmean(a, axis, out=out, keepdims=keepdims)\n"
     ]
    },
    {
     "name": "stdout",
     "output_type": "stream",
     "text": [
      "=====Calculating Echo Top Heights. 93.48% Complete=====\n"
     ]
    },
    {
     "name": "stderr",
     "output_type": "stream",
     "text": [
      "/home/thahn/.conda/envs/CoMET-dev/lib/python3.12/site-packages/numpy/lib/nanfunctions.py:1562: RuntimeWarning: Mean of empty slice\n",
      "  return np.nanmean(a, axis, out=out, keepdims=keepdims)\n"
     ]
    },
    {
     "name": "stdout",
     "output_type": "stream",
     "text": [
      "=====Calculating Echo Top Heights. 95.65% Complete=====\n"
     ]
    },
    {
     "name": "stderr",
     "output_type": "stream",
     "text": [
      "/home/thahn/.conda/envs/CoMET-dev/lib/python3.12/site-packages/numpy/lib/nanfunctions.py:1562: RuntimeWarning: Mean of empty slice\n",
      "  return np.nanmean(a, axis, out=out, keepdims=keepdims)\n"
     ]
    },
    {
     "name": "stdout",
     "output_type": "stream",
     "text": [
      "=====Calculating Echo Top Heights. 97.83% Complete=====\n",
      "=====Calculating Echo Top Heights. 100.00% Complete=====\n",
      "=====Calculating Area. 2.17% Complete=====\n",
      "=====Calculating Area. 4.35% Complete=====\n",
      "=====Calculating Area. 6.52% Complete=====\n",
      "=====Calculating Area. 8.70% Complete=====\n",
      "=====Calculating Area. 10.87% Complete=====\n",
      "=====Calculating Area. 13.04% Complete=====\n",
      "=====Calculating Area. 15.22% Complete=====\n",
      "=====Calculating Area. 17.39% Complete=====\n",
      "=====Calculating Area. 19.57% Complete=====\n",
      "=====Calculating Area. 21.74% Complete=====\n",
      "=====Calculating Area. 23.91% Complete=====\n",
      "=====Calculating Area. 26.09% Complete=====\n",
      "=====Calculating Area. 28.26% Complete=====\n",
      "=====Calculating Area. 30.43% Complete=====\n",
      "=====Calculating Area. 32.61% Complete=====\n",
      "=====Calculating Area. 34.78% Complete=====\n",
      "=====Calculating Area. 36.96% Complete=====\n",
      "=====Calculating Area. 39.13% Complete=====\n",
      "=====Calculating Area. 41.30% Complete=====\n",
      "=====Calculating Area. 43.48% Complete=====\n",
      "=====Calculating Area. 45.65% Complete=====\n",
      "=====Calculating Area. 47.83% Complete=====\n",
      "=====Calculating Area. 50.00% Complete=====\n",
      "=====Calculating Area. 52.17% Complete=====\n",
      "=====Calculating Area. 54.35% Complete=====\n",
      "=====Calculating Area. 56.52% Complete=====\n",
      "=====Calculating Area. 58.70% Complete=====\n",
      "=====Calculating Area. 60.87% Complete=====\n",
      "=====Calculating Area. 63.04% Complete=====\n",
      "=====Calculating Area. 65.22% Complete=====\n",
      "=====Calculating Area. 67.39% Complete=====\n",
      "=====Calculating Area. 69.57% Complete=====\n",
      "=====Calculating Area. 71.74% Complete=====\n",
      "=====Calculating Area. 73.91% Complete=====\n",
      "=====Calculating Area. 76.09% Complete=====\n",
      "=====Calculating Area. 78.26% Complete=====\n",
      "=====Calculating Area. 80.43% Complete=====\n",
      "=====Calculating Area. 82.61% Complete=====\n",
      "=====Calculating Area. 84.78% Complete=====\n",
      "=====Calculating Area. 86.96% Complete=====\n",
      "=====Calculating Area. 89.13% Complete=====\n",
      "=====Calculating Area. 91.30% Complete=====\n",
      "=====Calculating Area. 93.48% Complete=====\n",
      "=====Calculating Area. 95.65% Complete=====\n",
      "=====Calculating Area. 97.83% Complete=====\n",
      "=====Calculating Area. 100.00% Complete=====\n",
      "=====Calculating Volume. 2.17% Complete=====\n",
      "=====Calculating Volume. 4.35% Complete=====\n",
      "=====Calculating Volume. 6.52% Complete=====\n",
      "=====Calculating Volume. 8.70% Complete=====\n",
      "=====Calculating Volume. 10.87% Complete=====\n",
      "=====Calculating Volume. 13.04% Complete=====\n",
      "=====Calculating Volume. 15.22% Complete=====\n",
      "=====Calculating Volume. 17.39% Complete=====\n",
      "=====Calculating Volume. 19.57% Complete=====\n",
      "=====Calculating Volume. 21.74% Complete=====\n",
      "=====Calculating Volume. 23.91% Complete=====\n",
      "=====Calculating Volume. 26.09% Complete=====\n",
      "=====Calculating Volume. 28.26% Complete=====\n",
      "=====Calculating Volume. 30.43% Complete=====\n",
      "=====Calculating Volume. 32.61% Complete=====\n",
      "=====Calculating Volume. 34.78% Complete=====\n",
      "=====Calculating Volume. 36.96% Complete=====\n",
      "=====Calculating Volume. 39.13% Complete=====\n",
      "=====Calculating Volume. 41.30% Complete=====\n",
      "=====Calculating Volume. 43.48% Complete=====\n",
      "=====Calculating Volume. 45.65% Complete=====\n",
      "=====Calculating Volume. 47.83% Complete=====\n",
      "=====Calculating Volume. 50.00% Complete=====\n",
      "=====Calculating Volume. 52.17% Complete=====\n",
      "=====Calculating Volume. 54.35% Complete=====\n",
      "=====Calculating Volume. 56.52% Complete=====\n",
      "=====Calculating Volume. 58.70% Complete=====\n",
      "=====Calculating Volume. 60.87% Complete=====\n",
      "=====Calculating Volume. 63.04% Complete=====\n",
      "=====Calculating Volume. 65.22% Complete=====\n",
      "=====Calculating Volume. 67.39% Complete=====\n",
      "=====Calculating Volume. 69.57% Complete=====\n",
      "=====Calculating Volume. 71.74% Complete=====\n",
      "=====Calculating Volume. 73.91% Complete=====\n",
      "=====Calculating Volume. 76.09% Complete=====\n",
      "=====Calculating Volume. 78.26% Complete=====\n",
      "=====Calculating Volume. 80.43% Complete=====\n",
      "=====Calculating Volume. 82.61% Complete=====\n",
      "=====Calculating Volume. 84.78% Complete=====\n",
      "=====Calculating Volume. 86.96% Complete=====\n",
      "=====Calculating Volume. 89.13% Complete=====\n",
      "=====Calculating Volume. 91.30% Complete=====\n",
      "=====Calculating Volume. 93.48% Complete=====\n",
      "=====Calculating Volume. 95.65% Complete=====\n",
      "=====Calculating Volume. 97.83% Complete=====\n",
      "=====Calculating Volume. 100.00% Complete=====\n",
      "=====Converting MesoNH tobac Output to CoMET-UDAF=====\n",
      "=====MesoNH tobac Tracking Complete=====\n"
     ]
    }
   ],
   "source": [
    "# This is the only function required to run CoMET. All details are in the CONFIG\n",
    "output = CoMET.CoMET_start(\"./example_configs/boilerplate.yml\")"
   ]
  },
  {
   "cell_type": "code",
   "execution_count": null,
   "id": "08f67ed9-11be-408a-b24b-ed7fd3703812",
   "metadata": {},
   "outputs": [],
   "source": [
    "print(output)"
   ]
  },
  {
   "cell_type": "code",
   "execution_count": null,
   "id": "b0ce796d-9505-4a87-818d-3158e3c0a8f7",
   "metadata": {},
   "outputs": [],
   "source": [
    "print(output['nexrad']['tobac']['analysis']['interpsonde'])"
   ]
  },
  {
   "cell_type": "code",
   "execution_count": null,
   "id": "2c7cc302-3608-460b-89e0-1e25824a67c3",
   "metadata": {},
   "outputs": [],
   "source": [
    "import matplotlib.pyplot as plt\n",
    "\n",
    "fig,ax = plt.subplots()\n",
    "\n",
    "ax.hist([output['wrf']['tobac']['analysis']['eth'].eth.values,output['mesonh']['tobac']['analysis']['eth'].eth.values,output['nexrad']['tobac']['analysis']['eth'].eth.values],density=True,label=[\"WRF\",\"MesoNH\",\"NEXRAD\"])\n",
    "ax.set_xlabel(\"Echo Top Height (km)\")\n",
    "ax.set_ylabel(\"Relative Frequency\")\n",
    "ax.legend()\n",
    "plt.show()"
   ]
  }
 ],
 "metadata": {
  "kernelspec": {
   "display_name": "Python 3 (ipykernel)",
   "language": "python",
   "name": "python3"
  },
  "language_info": {
   "codemirror_mode": {
    "name": "ipython",
    "version": 3
   },
   "file_extension": ".py",
   "mimetype": "text/x-python",
   "name": "python",
   "nbconvert_exporter": "python",
   "pygments_lexer": "ipython3",
   "version": "3.12.2"
  }
 },
 "nbformat": 4,
 "nbformat_minor": 5
}
