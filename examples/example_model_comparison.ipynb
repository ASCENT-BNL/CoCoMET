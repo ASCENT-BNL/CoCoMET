{
 "cells": [
  {
   "cell_type": "markdown",
   "id": "db84347e-ee2d-46c4-9cea-db18dcd30f5a",
   "metadata": {},
   "source": [
    "# Model Comparison\n",
    "Suppose we wanted to compare cell tracking results from two seperate models. We can do this with CoMET! We just need to define our config for the two models."
   ]
  },
  {
   "cell_type": "code",
   "execution_count": 1,
   "id": "3789bc8f-71a6-483f-9e7d-2eeaa07beca1",
   "metadata": {},
   "outputs": [
    {
     "name": "stdout",
     "output_type": "stream",
     "text": [
      "=====Welcome To CoMET=====\n",
      "\n",
      "This project was supported by the U.S. Department of Energy (DOE) Early Career Research Program, Atmospheric System Research (ASR) program, and the Office of Workforce Development for Teachers and Scientists (WDTS) under the Science Undergraduate Laboratory Internships Program (SULI).\n",
      "\n",
      "If you are using this software for a publication, please cite: ####\n",
      "\n",
      "==========================\n",
      "\n",
      "=====WRF Setup Found in CONFIG=====\n",
      "=====MesoNH Setup Found in CONFIG=====\n"
     ]
    }
   ],
   "source": [
    "# This path append is just for testing from within the examples folder, no need for the user to add this\n",
    "import sys\n",
    "sys.path.append(\"..\")\n",
    "\n",
    "import yaml\n",
    "import CoMET\n",
    "\n",
    "CONFIG = CoMET.CoMET_load(CONFIG_string=\"\"\"\n",
    "wrf:\n",
    "    path_to_data: \"/D3/data/thahn/wrf/wrfout_2023_07_09/wrfout_d02*\"\n",
    "\n",
    "    feature_tracking_var: \"dbz\" #DBZ, TB, WA, PR\n",
    "    segmentation_var: \"dbz\"\n",
    "\n",
    "    tobac:\n",
    "        feature_id:\n",
    "            threshold: [40,50,60]\n",
    "            target: \"maximum\"\n",
    "            position_threshold: \"weighted_diff\"\n",
    "            sigma_threshold: 0.5\n",
    "            n_min_threshold: 4\n",
    "        \n",
    "        linking: \n",
    "            method_linking: \"predict\"\n",
    "            adaptive_stop: 0.2\n",
    "            adaptive_step: 0.95\n",
    "            order: 1\n",
    "            subnetwork_size: 10\n",
    "            memory: 1\n",
    "            v_max: 20\n",
    "        \n",
    "        segmentation_2d:\n",
    "            height: 2000 # m\n",
    "            method: \"watershed\"\n",
    "            threshold: 30\n",
    "            \n",
    "        segmentation_3d:\n",
    "            method: \"watershed\"\n",
    "            threshold: 30\n",
    "    \n",
    "        analysis: # Optional\n",
    "            eth: { variable: \"DBZ\", cell_footprint_height: 2000, threshold: 5 }\n",
    "            area-low: { height: 2000 }\n",
    "            area-high: { height: 4000 }\n",
    "            volume: {}\n",
    "\n",
    "mesonh:\n",
    "    path_to_data: \"/D3/data/thahn/MesoNH/CLN/0_5km/500m*\"\n",
    "\n",
    "    feature_tracking_var: \"dbz\" #DBZ, TB, WA\n",
    "    segmentation_var: \"dbz\"\n",
    "\n",
    "    tobac:\n",
    "        feature_id:\n",
    "            threshold: [10,20,30]\n",
    "            target: \"maximum\"\n",
    "            position_threshold: \"weighted_diff\"\n",
    "            sigma_threshold: 0.5\n",
    "            n_min_threshold: 4\n",
    "        \n",
    "        linking: \n",
    "            method_linking: \"predict\"\n",
    "            adaptive_stop: 0.2\n",
    "            adaptive_step: 0.95\n",
    "            order: 1\n",
    "            subnetwork_size: 10\n",
    "            memory: 1\n",
    "            v_max: 20\n",
    "        \n",
    "        segmentation_2d:\n",
    "            height: 2000 # m\n",
    "            method: \"watershed\"\n",
    "            threshold: 5\n",
    "            \n",
    "        segmentation_3d:\n",
    "            method: \"watershed\"\n",
    "            threshold: 5\n",
    "    \n",
    "        analysis:\n",
    "            eth: { variable: \"DBZ\", cell_footprint_height: 2000, threshold: 5 }\n",
    "            area-low: { height: 2000 }\n",
    "            area-high: { height: 4000 }\n",
    "            volume: {}\n",
    "\"\"\")"
   ]
  },
  {
   "cell_type": "markdown",
   "id": "80b0172b-f641-4251-9621-6a187e5150eb",
   "metadata": {},
   "source": [
    "Then we can call CoMET_start to get our output"
   ]
  },
  {
   "cell_type": "code",
   "execution_count": 3,
   "id": "f7cd5c40-c0f8-4f71-b540-e115bd396b9f",
   "metadata": {},
   "outputs": [
    {
     "name": "stdout",
     "output_type": "stream",
     "text": [
      "=====Loading WRF Data=====\n",
      "=====Starting WRF tobac Feature ID=====\n",
      "=====Starting WRF tobac Feature Linking=====\n",
      "=====Starting WRF tobac 2D Segmentation=====\n",
      "=====Starting WRF tobac 3D Segmentation=====\n"
     ]
    },
    {
     "name": "stderr",
     "output_type": "stream",
     "text": [
      "=====Performing tobac Linking to UDAF====: 100%|████████████████████████████████████████████████████████████| 330/330 [00:06<00:00, 47.16it/s]\n",
      "=====Performing tobac Segmentation to UDAF=====: 100%|███████████████████████████████████████████████████████| 51/51 [00:00<00:00, 125.28it/s]\n",
      "=====Performing tobac Segmentation to UDAF=====: 100%|████████████████████████████████████████████████████████| 51/51 [00:00<00:00, 74.51it/s]\n"
     ]
    },
    {
     "name": "stdout",
     "output_type": "stream",
     "text": [
      "=====Starting WRF tobac Analysis Calculations=====\n"
     ]
    },
    {
     "name": "stderr",
     "output_type": "stream",
     "text": [
      "=====Calculating Echo Top Heights=====: 100%|█████████████████████████████████████████████████████████████████| 51/51 [03:39<00:00,  4.30s/it]\n",
      "=====Calculating Areas=====: 100%|████████████████████████████████████████████████████████████████████████████| 51/51 [00:00<00:00, 67.27it/s]\n",
      "=====Calculating Areas=====: 100%|████████████████████████████████████████████████████████████████████████████| 51/51 [00:00<00:00, 67.47it/s]\n",
      "=====Calculating Volumes=====: 100%|██████████████████████████████████████████████████████████████████████████| 51/51 [00:05<00:00,  8.70it/s]\n"
     ]
    },
    {
     "name": "stdout",
     "output_type": "stream",
     "text": [
      "=====Converting WRF tobac Output to CoMET-UDAF=====\n",
      "=====WRF tobac Tracking Complete=====\n",
      "=====Loading MesoNH Data=====\n",
      "=====Starting MesoNH tobac Feature ID=====\n",
      "=====Starting MesoNH tobac Feature Linking=====\n",
      "=====Starting MesoNH tobac 2D Segmentation=====\n",
      "=====Starting MesoNH tobac 3D Segmentation=====\n"
     ]
    },
    {
     "name": "stderr",
     "output_type": "stream",
     "text": [
      "=====Performing tobac Linking to UDAF====: 100%|████████████████████████████████████████████████████████████| 349/349 [00:06<00:00, 52.32it/s]\n",
      "=====Performing tobac Segmentation to UDAF=====: 100%|███████████████████████████████████████████████████████| 46/46 [00:00<00:00, 100.96it/s]\n",
      "=====Performing tobac Segmentation to UDAF=====: 100%|████████████████████████████████████████████████████████| 46/46 [00:05<00:00,  8.38it/s]\n"
     ]
    },
    {
     "name": "stdout",
     "output_type": "stream",
     "text": [
      "=====Starting MesoNH tobac Analysis Calculations=====\n"
     ]
    },
    {
     "name": "stderr",
     "output_type": "stream",
     "text": [
      "=====Calculating Echo Top Heights=====: 100%|█████████████████████████████████████████████████████████████████| 46/46 [00:08<00:00,  5.26it/s]\n",
      "=====Calculating Areas=====: 100%|████████████████████████████████████████████████████████████████████████████| 46/46 [00:00<00:00, 57.34it/s]\n",
      "=====Calculating Areas=====: 100%|████████████████████████████████████████████████████████████████████████████| 46/46 [00:00<00:00, 57.33it/s]\n",
      "=====Calculating Volumes=====: 100%|██████████████████████████████████████████████████████████████████████████| 46/46 [00:23<00:00,  1.96it/s]"
     ]
    },
    {
     "name": "stdout",
     "output_type": "stream",
     "text": [
      "=====Converting MesoNH tobac Output to CoMET-UDAF=====\n",
      "=====MesoNH tobac Tracking Complete=====\n",
      "=====CoMET Performance Diagonistics=====\n",
      "$ Total Process Time: 1102.23 Seconds\n",
      "$ Allocated Resources: Cores = 1\n"
     ]
    },
    {
     "name": "stderr",
     "output_type": "stream",
     "text": [
      "\n"
     ]
    }
   ],
   "source": [
    "output = CoMET.CoMET_start(CONFIG=CONFIG)"
   ]
  },
  {
   "cell_type": "code",
   "execution_count": 4,
   "id": "d591450c-4bce-486d-8861-b2f2779d2226",
   "metadata": {},
   "outputs": [
    {
     "data": {
      "image/png": "[encoded data removed]",
      "text/plain": [
       "<Figure size 640x480 with 1 Axes>"
      ]
     },
     "metadata": {},
     "output_type": "display_data"
    }
   ],
   "source": [
    "import matplotlib.pyplot as plt\n",
    "\n",
    "fig,ax = plt.subplots()\n",
    "\n",
    "ax.hist([output['wrf']['tobac']['analysis']['eth'].eth.values,output['mesonh']['tobac']['analysis']['eth'].eth.values],density=True,label=[\"WRF\",\"MesoNH\"])\n",
    "ax.set_xlabel(\"ETH (km)\")\n",
    "ax.set_ylabel(\"Density\")\n",
    "ax.legend()\n",
    "plt.show()"
   ]
  },
  {
   "cell_type": "code",
   "execution_count": null,
   "id": "2182f11f-2288-4552-8859-3da5581b9244",
   "metadata": {},
   "outputs": [],
   "source": []
  }
 ],
 "metadata": {
  "kernelspec": {
   "display_name": "Python 3 (ipykernel)",
   "language": "python",
   "name": "python3"
  },
  "language_info": {
   "codemirror_mode": {
    "name": "ipython",
    "version": 3
   },
   "file_extension": ".py",
   "mimetype": "text/x-python",
   "name": "python",
   "nbconvert_exporter": "python",
   "pygments_lexer": "ipython3",
   "version": "3.12.2"
  }
 },
 "nbformat": 4,
 "nbformat_minor": 5
}
