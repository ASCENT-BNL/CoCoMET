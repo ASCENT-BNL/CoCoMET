{
 "cells": [
  {
   "cell_type": "markdown",
   "id": "e98bfb86-393f-4ddf-a3b1-590e12dbe70b",
   "metadata": {},
   "source": [
    "# Converting a Non-NEXRAD Radar into the UDAF Radar Standard"
   ]
  },
  {
   "cell_type": "code",
   "execution_count": 2,
   "id": "a7443318-bd04-4266-b018-ad1deaa309ab",
   "metadata": {},
   "outputs": [
    {
     "name": "stdout",
     "output_type": "stream",
     "text": [
      "<xarray.DataArray 'reflectivity' (time: 119, z: 1, y: 500, x: 500)> Size: 119MB\n",
      "dask.array<transpose, shape=(119, 1, 500, 500), dtype=float32, chunksize=(119, 1, 500, 500), chunktype=numpy.ndarray>\n",
      "Coordinates:\n",
      "    projection_x_coordinate  (x) float64 4kB -5e+05 -4.98e+05 ... 4.98e+05 5e+05\n",
      "    projection_y_coordinate  (y) float64 4kB -5e+05 -4.98e+05 ... 4.98e+05 5e+05\n",
      "  * time                     (time) datetime64[ns] 952B 2015-05-28 ... 2015-0...\n",
      "    south_north              (y) int64 4kB 0 1 2 3 4 5 ... 495 496 497 498 499\n",
      "    west_east                (x) int64 4kB 0 1 2 3 4 5 ... 495 496 497 498 499\n",
      "  * x                        (x) int64 4kB 0 1 2 3 4 5 ... 495 496 497 498 499\n",
      "  * y                        (y) int64 4kB 0 1 2 3 4 5 ... 495 496 497 498 499\n",
      "    model_level_number       (z) int64 8B 0\n",
      "    altitude                 (z) int64 8B 2000\n",
      "    lat                      (y, x) float64 2MB -5.4 -5.391 ... -0.9031 -0.8941\n",
      "    lon                      (y, x) float64 2MB -62.25 -62.25 ... -57.74 -57.74\n",
      "  * z                        (z) int64 8B 2000\n",
      "Attributes:\n",
      "    long_name:      Reflectivity\n",
      "    units:          dBZ\n",
      "    standard_name:  equivalent_reflectivity_factor\n"
     ]
    }
   ],
   "source": [
    "#!/usr/bin/env python3\n",
    "# -*- coding: utf-8 -*-\n",
    "\"\"\"\n",
    "Created on Thu Jul 18 13:21:37 2024\n",
    "\n",
    "@author: thahn\n",
    "\"\"\"\n",
    "\n",
    "import xarray as xr\n",
    "import numpy as np\n",
    "\n",
    "test_radar = xr.open_mfdataset(\"/share/disk25/data/sgupta/data/RADAR/thiago-grid/dbz_2km_20150528.nc\" ,coords=\"all\", concat_dim=\"time\", combine=\"nested\").dbz_2km_20150528.expand_dims(dim={\"z\":1},axis=1)\n",
    "test_radar = test_radar.assign_coords()\n",
    "\n",
    "first_time = test_radar.time.values[0]\n",
    "test_radar = test_radar.assign_coords(time=(test_radar.time.values),\n",
    "                                            south_north = (\"y0\", np.arange(test_radar.shape[3])), west_east = (\"x0\", np.arange(test_radar.shape[2])),\n",
    "                                            projection_x_coordinate = (\"x0\", test_radar.projection_x_coordinate[0].values * 2000), projection_y_coordinate = (\"y0\", test_radar.projection_y_coordinate[0].values * 2000),\n",
    "                                            x = (\"x0\",np.arange(test_radar.shape[2])), y = (\"y0\", np.arange(test_radar.shape[3])),\n",
    "                                            model_level_number = (\"z\", np.arange(test_radar.shape[1])), altitude = (\"z\", [2000]),z=(\"z\",[2000]),\n",
    "                                            lat = ([\"x0\", \"y0\"], test_radar.latitude[0].values), lon = ([\"x0\", \"y0\"], test_radar.longitude[0].values))\n",
    "\n",
    "\n",
    "# Adjust dimension names to be standards accepted by iris\n",
    "test_radar[\"z\"] = test_radar.z.assign_attrs({\"standard_name\": \"altitude\", \"units\": \"m\"})\n",
    "test_radar[\"lat\"] = test_radar.lat.assign_attrs({\"standard_name\": \"latitude\", \"units\": \"degree_N\"})\n",
    "test_radar[\"lon\"] = test_radar.lon.assign_attrs({\"standard_name\": \"longitude\", \"units\": \"degree_E\"})\n",
    "test_radar[\"projection_x_coordinate\"] = test_radar.projection_x_coordinate.assign_attrs({\"units\": \"m\"})\n",
    "test_radar[\"projection_y_coordinate\"] = test_radar.projection_y_coordinate.assign_attrs({\"units\": \"m\"})\n",
    "test_radar = test_radar.swap_dims({\"x0\":\"x\",\"y0\":\"y\"}).drop_vars([\"longitude\",\"latitude\"])\n",
    "\n",
    "test_radar = test_radar.rename(\"reflectivity\")\n",
    "test_radar = test_radar.assign_attrs({ \"long_name\": \"Reflectivity\", \"units\": \"dBZ\", \"standard_name\": \"equivalent_reflectivity_factor\" })\n",
    "test_radar = test_radar.transpose(\"time\",\"z\",\"y\",\"x\")\n",
    "\n",
    "print(test_radar)\n",
    "\n",
    "test_radar.to_netcdf(\"/D3/data/thahn/RADAR/proper_dbz_2km_20150528.nc\")"
   ]
  }
 ],
 "metadata": {
  "kernelspec": {
   "display_name": "Python 3 (ipykernel)",
   "language": "python",
   "name": "python3"
  },
  "language_info": {
   "codemirror_mode": {
    "name": "ipython",
    "version": 3
   },
   "file_extension": ".py",
   "mimetype": "text/x-python",
   "name": "python",
   "nbconvert_exporter": "python",
   "pygments_lexer": "ipython3",
   "version": "3.12.2"
  }
 },
 "nbformat": 4,
 "nbformat_minor": 5
}
